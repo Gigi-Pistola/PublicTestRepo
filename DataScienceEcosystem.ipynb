{
 "cells": [
  {
   "cell_type": "markdown",
   "id": "cd153a75-2a8b-45da-8171-f44567ffea31",
   "metadata": {},
   "source": [
    "# Data Science Tools and Ecosystem"
   ]
  },
  {
   "cell_type": "markdown",
   "id": "21baeea8-d03b-483b-9d02-dd28a29266df",
   "metadata": {},
   "source": [
    " In this Notebook, Data Science Tools and Ecosystem are summarized"
   ]
  },
  {
   "cell_type": "markdown",
   "id": "530c972e-5674-4a6c-9297-56d512556607",
   "metadata": {},
   "source": [
    "## __Objectives__\n",
    "- List popular language used in Data Science\n",
    "- List popular lybraries used in Python and R in Data Science\n",
    "- Create a Jupyter Notebook for testing this knowladge\n",
    "- Test code cells in a Jupyter Notebook"
   ]
  },
  {
   "cell_type": "markdown",
   "id": "70af3490-a575-4d4d-a87e-d935843c115f",
   "metadata": {},
   "source": [
    "### Some of the populare languages that Data Scientists use are:\n",
    "\n",
    "1. Julia\n",
    "2. Python\n",
    "3. R\n",
    "4. SQL"
   ]
  },
  {
   "cell_type": "markdown",
   "id": "592473f8-92a3-4447-8d85-d6f8a377dca7",
   "metadata": {},
   "source": [
    "### Some of the commonly used libraries used by Data Scientis include:\n",
    "\n",
    "1. NumPy (Python)\n",
    "2. Matplotlib (Python)\n",
    "3. ggplot (R)"
   ]
  },
  {
   "cell_type": "markdown",
   "id": "fb666bc3-1b82-498b-9f47-fdea9ec82c04",
   "metadata": {},
   "source": [
    "| Data Science Tools|\n",
    "|-------------------|\n",
    "|MySQL              |\n",
    "|RStudio            |\n",
    "|JupyterLab         |"
   ]
  },
  {
   "cell_type": "markdown",
   "id": "94b1c7ad-1e51-476b-bf4b-5fb2d1e23b2c",
   "metadata": {},
   "source": [
    "### Below are a few examples of evaluating arithmetic expressions in Python"
   ]
  },
  {
   "cell_type": "code",
   "execution_count": 1,
   "id": "251ff152-8644-45a2-b5fc-eafa154dd8ba",
   "metadata": {},
   "outputs": [
    {
     "data": {
      "text/plain": [
       "17"
      ]
     },
     "execution_count": 1,
     "metadata": {},
     "output_type": "execute_result"
    }
   ],
   "source": [
    "# This a simple arithmetic expression to multiply then add integers\n",
    "\n",
    "(3*4)+5"
   ]
  },
  {
   "cell_type": "code",
   "execution_count": 4,
   "id": "cc2f9fbc-fb40-4b0a-a4af-833a7bfeb37d",
   "metadata": {},
   "outputs": [
    {
     "data": {
      "text/plain": [
       "3.3333333333333335"
      ]
     },
     "execution_count": 4,
     "metadata": {},
     "output_type": "execute_result"
    }
   ],
   "source": [
    "# This will convert 200 minutes to hours by dividing by 60\n",
    "\n",
    "200/60"
   ]
  },
  {
   "cell_type": "markdown",
   "id": "4697efc7-79bf-4c74-9dd3-cf5a7e855cc6",
   "metadata": {},
   "source": [
    "## Author\n",
    "\n",
    "Federico Meneghetti"
   ]
  },
  {
   "cell_type": "code",
   "execution_count": null,
   "id": "e3b20332-9b8d-4035-bd14-e1d6660e53a1",
   "metadata": {},
   "outputs": [],
   "source": []
  }
 ],
 "metadata": {
  "kernelspec": {
   "display_name": "Python 3 (ipykernel)",
   "language": "python",
   "name": "python3"
  },
  "language_info": {
   "codemirror_mode": {
    "name": "ipython",
    "version": 3
   },
   "file_extension": ".py",
   "mimetype": "text/x-python",
   "name": "python",
   "nbconvert_exporter": "python",
   "pygments_lexer": "ipython3",
   "version": "3.13.2"
  }
 },
 "nbformat": 4,
 "nbformat_minor": 5
}
